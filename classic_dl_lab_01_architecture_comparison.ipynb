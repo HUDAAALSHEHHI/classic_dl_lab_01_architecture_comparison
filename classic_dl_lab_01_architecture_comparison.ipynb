{
  "nbformat": 4,
  "nbformat_minor": 0,
  "metadata": {
    "colab": {
      "provenance": [],
      "gpuType": "T4"
    },
    "kernelspec": {
      "name": "python3",
      "display_name": "Python 3"
    },
    "language_info": {
      "name": "python"
    },
    "accelerator": "GPU"
  },
  "cells": [
    {
      "cell_type": "code",
      "execution_count": 1,
      "metadata": {
        "colab": {
          "base_uri": "https://localhost:8080/"
        },
        "id": "_YWOkRcoiN8w",
        "outputId": "42338d1b-fcd3-4cce-ec28-13facf88d730"
      },
      "outputs": [
        {
          "output_type": "stream",
          "name": "stdout",
          "text": [
            "CUDA available: True\n",
            "Tesla T4\n"
          ]
        }
      ],
      "source": [
        "import torch, platform, time, os, random\n",
        "print(\"CUDA available:\", torch.cuda.is_available())\n",
        "device = torch.device(\"cuda\" if torch.cuda.is_available() else \"cpu\")\n",
        "if torch.cuda.is_available():\n",
        "    print(torch.cuda.get_device_name(0))\n",
        "torch.backends.cudnn.benchmark = True  # Enable GPU acceleration\n"
      ]
    },
    {
      "cell_type": "code",
      "source": [
        "!pip install -q timm torch torchvision torchaudio\n"
      ],
      "metadata": {
        "id": "X5-zuveBj7ya"
      },
      "execution_count": 2,
      "outputs": []
    },
    {
      "cell_type": "code",
      "source": [
        "import torch\n",
        "import torch.nn as nn\n",
        "import torch.optim as optim\n",
        "import torchvision\n",
        "import torchvision.transforms as transforms\n",
        "from torch.utils.data import DataLoader, Subset\n",
        "import timm, math\n",
        "random.seed(42); torch.manual_seed(42)\n"
      ],
      "metadata": {
        "colab": {
          "base_uri": "https://localhost:8080/"
        },
        "id": "zXq8SC0Tk61G",
        "outputId": "e52d9683-b681-4ac8-82dd-f7396b189b01"
      },
      "execution_count": 3,
      "outputs": [
        {
          "output_type": "execute_result",
          "data": {
            "text/plain": [
              "<torch._C.Generator at 0x7d447009cd70>"
            ]
          },
          "metadata": {},
          "execution_count": 3
        }
      ]
    },
    {
      "cell_type": "code",
      "source": [
        "IMG_SIZE = 128  # Smaller than 224\n",
        "BATCH_SIZE = 64\n",
        "\n",
        "transform = transforms.Compose([\n",
        "    transforms.Resize(IMG_SIZE),\n",
        "    transforms.ToTensor(),\n",
        "    transforms.Normalize((0.5,0.5,0.5),(0.5,0.5,0.5))\n",
        "])\n",
        "\n",
        "train_full = torchvision.datasets.CIFAR10('./data', train=True, download=True, transform=transform)\n",
        "test_full  = torchvision.datasets.CIFAR10('./data', train=False, download=True, transform=transform)\n",
        "\n",
        "# Quick subset: 10k training samples, 2k testing samples\n",
        "train_idx = list(range(0, min(10000, len(train_full))))\n",
        "test_idx  = list(range(0, min(2000, len(test_full))))\n",
        "\n",
        "train_ds = Subset(train_full, train_idx)\n",
        "test_ds  = Subset(test_full, test_idx)\n",
        "\n",
        "train_loader = DataLoader(train_ds, batch_size=BATCH_SIZE, shuffle=True, num_workers=2, pin_memory=True)\n",
        "test_loader  = DataLoader(test_ds, batch_size=BATCH_SIZE, shuffle=False, num_workers=2, pin_memory=True)\n"
      ],
      "metadata": {
        "colab": {
          "base_uri": "https://localhost:8080/"
        },
        "id": "id4XOKg3k-uS",
        "outputId": "b0af9be7-49be-43e8-dd1b-7dc097142afd"
      },
      "execution_count": 4,
      "outputs": [
        {
          "output_type": "stream",
          "name": "stderr",
          "text": [
            "100%|██████████| 170M/170M [00:04<00:00, 36.1MB/s]\n"
          ]
        }
      ]
    },
    {
      "cell_type": "code",
      "source": [
        "device = torch.device(\"cuda\" if torch.cuda.is_available() else \"cpu\")\n",
        "\n",
        "models = {\n",
        "    \"ResNet18\": timm.create_model('resnet18', pretrained=False, num_classes=10).to(device),\n",
        "    \"DenseNet121\": timm.create_model('densenet121', pretrained=False, num_classes=10).to(device),\n",
        "    \"EfficientNetB0\": timm.create_model('efficientnet_b0', pretrained=False, num_classes=10).to(device)\n",
        "}\n"
      ],
      "metadata": {
        "id": "1yEdAKqelFSM"
      },
      "execution_count": 5,
      "outputs": []
    },
    {
      "cell_type": "code",
      "source": [
        "from torch.cuda.amp import autocast, GradScaler\n",
        "\n",
        "def train_model_fast(model, train_loader, test_loader, epochs=1, max_steps_per_epoch=150):\n",
        "    criterion = nn.CrossEntropyLoss()\n",
        "    optimizer = optim.Adam(model.parameters(), lr=1e-3)\n",
        "    scaler = GradScaler(enabled=torch.cuda.is_available())\n",
        "\n",
        "    for epoch in range(epochs):\n",
        "        model.train()\n",
        "        running_loss, steps = 0.0, 0\n",
        "        t0 = time.time()\n",
        "        for images, labels in train_loader:\n",
        "            images, labels = images.to(device, non_blocking=True), labels.to(device, non_blocking=True)\n",
        "            optimizer.zero_grad(set_to_none=True)\n",
        "            with autocast(enabled=torch.cuda.is_available()):\n",
        "                outputs = model(images)\n",
        "                loss = criterion(outputs, labels)\n",
        "            scaler.scale(loss).backward()\n",
        "            scaler.step(optimizer)\n",
        "            scaler.update()\n",
        "\n",
        "            running_loss += loss.item()\n",
        "            steps += 1\n",
        "            if steps >= max_steps_per_epoch:  # Reduce time per epoch\n",
        "                break\n",
        "        t1 = time.time()\n",
        "        print(f\"Epoch {epoch+1} | Loss: {running_loss/steps:.4f} | Time: {t1-t0:.1f}s\")\n",
        "\n",
        "    model.eval()\n",
        "    correct, total = 0, 0\n",
        "    with torch.no_grad(), autocast(enabled=torch.cuda.is_available()):\n",
        "        for images, labels in test_loader:\n",
        "            images, labels = images.to(device, non_blocking=True), labels.to(device, non_blocking=True)\n",
        "            outputs = model(images)\n",
        "            _, pred = torch.max(outputs, 1)\n",
        "            total += labels.size(0)\n",
        "            correct += (pred == labels).sum().item()\n",
        "    acc = 100.0 * correct / total\n",
        "    print(f\"Test Accuracy: {acc:.2f}%\")\n",
        "    return acc\n"
      ],
      "metadata": {
        "id": "IvaOUQyFlMJx"
      },
      "execution_count": 6,
      "outputs": []
    },
    {
      "cell_type": "code",
      "source": [
        "results = {}\n",
        "for name, model in models.items():\n",
        "    print(f\"\\nTraining {name}...\")\n",
        "    acc = train_model_fast(model, train_loader, test_loader, epochs=1, max_steps_per_epoch=150)\n",
        "    results[name] = acc\n",
        "\n",
        "print(\"\\nFinal Results:\")\n",
        "for k, v in results.items():\n",
        "    print(f\"{k}: {v:.2f}%\")\n"
      ],
      "metadata": {
        "colab": {
          "base_uri": "https://localhost:8080/"
        },
        "id": "5tn6cFxVlPtr",
        "outputId": "615ebe1f-1f90-4d42-959e-8e7087f5a7b8"
      },
      "execution_count": 7,
      "outputs": [
        {
          "output_type": "stream",
          "name": "stdout",
          "text": [
            "\n",
            "Training ResNet18...\n"
          ]
        },
        {
          "output_type": "stream",
          "name": "stderr",
          "text": [
            "/tmp/ipython-input-3267225029.py:6: FutureWarning: `torch.cuda.amp.GradScaler(args...)` is deprecated. Please use `torch.amp.GradScaler('cuda', args...)` instead.\n",
            "  scaler = GradScaler(enabled=torch.cuda.is_available())\n",
            "/tmp/ipython-input-3267225029.py:15: FutureWarning: `torch.cuda.amp.autocast(args...)` is deprecated. Please use `torch.amp.autocast('cuda', args...)` instead.\n",
            "  with autocast(enabled=torch.cuda.is_available()):\n"
          ]
        },
        {
          "output_type": "stream",
          "name": "stdout",
          "text": [
            "Epoch 1 | Loss: 1.8124 | Time: 20.7s\n"
          ]
        },
        {
          "output_type": "stream",
          "name": "stderr",
          "text": [
            "/tmp/ipython-input-3267225029.py:31: FutureWarning: `torch.cuda.amp.autocast(args...)` is deprecated. Please use `torch.amp.autocast('cuda', args...)` instead.\n",
            "  with torch.no_grad(), autocast(enabled=torch.cuda.is_available()):\n"
          ]
        },
        {
          "output_type": "stream",
          "name": "stdout",
          "text": [
            "Test Accuracy: 40.60%\n",
            "\n",
            "Training DenseNet121...\n",
            "Epoch 1 | Loss: 1.6975 | Time: 33.3s\n",
            "Test Accuracy: 44.55%\n",
            "\n",
            "Training EfficientNetB0...\n",
            "Epoch 1 | Loss: 2.6579 | Time: 49.8s\n",
            "Test Accuracy: 27.35%\n",
            "\n",
            "Final Results:\n",
            "ResNet18: 40.60%\n",
            "DenseNet121: 44.55%\n",
            "EfficientNetB0: 27.35%\n"
          ]
        }
      ]
    },
    {
      "cell_type": "code",
      "source": [],
      "metadata": {
        "id": "GvRUr8ddlUTU"
      },
      "execution_count": null,
      "outputs": []
    }
  ]
}